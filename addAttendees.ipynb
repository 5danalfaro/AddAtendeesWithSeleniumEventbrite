{
 "cells": [
  {
   "cell_type": "code",
   "execution_count": null,
   "metadata": {},
   "outputs": [],
   "source": [
    "import sys, time\n",
    "import os\n",
    "import pandas as pd\n",
    "import httplib2\n",
    "\n",
    "from selenium import webdriver\n",
    "from selenium.webdriver.common.keys import Keys"
   ]
  },
  {
   "cell_type": "code",
   "execution_count": null,
   "metadata": {},
   "outputs": [],
   "source": [
    "from google.oauth2 import service_account\n",
    "from googleapiclient import discovery\n",
    "from googleapiclient.errors import HttpError"
   ]
  },
  {
   "cell_type": "code",
   "execution_count": null,
   "metadata": {},
   "outputs": [],
   "source": [
    "def update_values(range_name,values):\n",
    "    \"\"\"\n",
    "    Creates the batch_update the user has access to.\n",
    "    Load pre-authorized user credentials from the environment.\n",
    "    TODO(developer) - See https://developers.google.com/identity\n",
    "    for guides on implementing OAuth2 for the application.\\n\"\n",
    "        \"\"\"\n",
    "    # pylint: disable=maybe-no-member\n",
    "    \n",
    "    spreadsheet_id = \"ID\"\n",
    "    value_input_option = \"USER_ENTERED\"\n",
    "    try:\n",
    "\n",
    "        service = sheet_service\n",
    "        \n",
    "        body = {\n",
    "            'values': values\n",
    "        }\n",
    "        result = service.spreadsheets().values().update(\n",
    "            spreadsheetId=spreadsheet_id,\n",
    "            range=range_name,\n",
    "            valueInputOption=value_input_option, body=body).execute()\n",
    "        return result\n",
    "    except HttpError as error:\n",
    "        print(f\"An error occurred: {error}\")\n",
    "        return error\n",
    "\n"
   ]
  },
  {
   "cell_type": "code",
   "execution_count": null,
   "metadata": {},
   "outputs": [],
   "source": [
    "scopes = [\"https://www.googleapis.com/auth/drive\", \n",
    "          \"https://www.googleapis.com/auth/drive.file\", \n",
    "          \"https://www.googleapis.com/auth/spreadsheets\"]\n",
    "\n",
    "creds = service_account.Credentials.from_service_account_file('file.json', scopes=scopes)"
   ]
  },
  {
   "cell_type": "code",
   "execution_count": null,
   "metadata": {},
   "outputs": [],
   "source": [
    "sheet_service = discovery.build('sheets', 'v4', credentials=creds)"
   ]
  },
  {
   "cell_type": "code",
   "execution_count": null,
   "metadata": {},
   "outputs": [],
   "source": [
    "eventID = \"384285748017\""
   ]
  },
  {
   "cell_type": "code",
   "execution_count": null,
   "metadata": {},
   "outputs": [],
   "source": [
    "#Open a browser at the event homepage\n",
    "driver = webdriver.Chrome(\"/Users/daniel/Documents/AddAttendeesToEventBrite/chromedriver\")"
   ]
  },
  {
   "cell_type": "code",
   "execution_count": null,
   "metadata": {},
   "outputs": [],
   "source": [
    "driver.get(\"https://www.eventbrite.fr/attendees-add?eid=\" + str(eventID))"
   ]
  },
  {
   "cell_type": "markdown",
   "metadata": {},
   "source": [
    "## ACESSS TO EVENTBRITE"
   ]
  },
  {
   "cell_type": "code",
   "execution_count": null,
   "metadata": {},
   "outputs": [],
   "source": [
    "login = \"login\"##LOGIN\n",
    "pwd = \"password\" ##PASWORD\n",
    "username = driver.find_element_by_id(\"email\")\n",
    "password = driver.find_element_by_id(\"password\")\n",
    "username.send_keys(login)\n",
    "password.send_keys(pwd)"
   ]
  },
  {
   "cell_type": "code",
   "execution_count": null,
   "metadata": {},
   "outputs": [],
   "source": [
    "loginButton = driver.find_elements_by_tag_name('button')[1]\n",
    "loginButton.click()\n",
    "time.sleep(10)"
   ]
  },
  {
   "cell_type": "markdown",
   "metadata": {},
   "source": [
    "## Sheet with Attendees Data"
   ]
  },
  {
   "cell_type": "code",
   "execution_count": null,
   "metadata": {},
   "outputs": [],
   "source": [
    "SPREADSHEET_ID = 'ID'\n",
    "DATA_TO_PULL = 'SS' ##SSName\n",
    "sheet = sheet_service.spreadsheets()\n",
    "result = sheet.values().get(spreadsheetId=SPREADSHEET_ID,\n",
    "                            range=DATA_TO_PULL).execute()\n",
    "data = result.get('values', [])"
   ]
  },
  {
   "cell_type": "code",
   "execution_count": null,
   "metadata": {},
   "outputs": [],
   "source": [
    "df = pd.DataFrame(data[1:], columns=data[0])"
   ]
  },
  {
   "cell_type": "code",
   "execution_count": null,
   "metadata": {},
   "outputs": [],
   "source": [
    "df.columns = ['surname','firstname','email','type','ticketID','EventBrite']"
   ]
  },
  {
   "cell_type": "code",
   "execution_count": null,
   "metadata": {},
   "outputs": [],
   "source": [
    "df.shape"
   ]
  },
  {
   "cell_type": "code",
   "execution_count": null,
   "metadata": {},
   "outputs": [],
   "source": [
    "attendees = df.T.to_dict()"
   ]
  },
  {
   "cell_type": "code",
   "execution_count": null,
   "metadata": {},
   "outputs": [],
   "source": [
    "ticket_folder = \"tickets/\"\n",
    "download_folder = \"~/Downloads/\""
   ]
  },
  {
   "cell_type": "code",
   "execution_count": null,
   "metadata": {},
   "outputs": [],
   "source": [
    "j=-1"
   ]
  },
  {
   "cell_type": "code",
   "execution_count": null,
   "metadata": {},
   "outputs": [],
   "source": [
    "tempsDattent=2.5"
   ]
  },
  {
   "cell_type": "code",
   "execution_count": null,
   "metadata": {},
   "outputs": [],
   "source": [
    "sheetName = \"ssName!F\"\n",
    "buyerEmail = \"name.surname@gmail.com\""
   ]
  },
  {
   "cell_type": "code",
   "execution_count": null,
   "metadata": {},
   "outputs": [],
   "source": [
    "for i,att in enumerate(attendees):\n",
    "    if i<=j:\n",
    "        continue\n",
    "    #get Attendee\n",
    "    att = attendees[i]\n",
    "    \n",
    "    firstname = att[\"firstname\"]\n",
    "    surname = att[\"surname\"]\n",
    "    email = att[\"email\"]\n",
    "    ticketID = att[\"ticketID\"]\n",
    "    \n",
    "    print(str(i)+\". Adding \" + firstname + \" \" + surname + \" (\" + email + \")\")\n",
    "    \n",
    "    #Begin adding\n",
    "    driver.get(\"https://www.eventbrite.fr/attendees-add?eid=\" + str(eventID))\n",
    "    \n",
    "    #no payment\n",
    "    select_box = driver.find_elements_by_tag_name(\"select\")[0]\n",
    "    select_box.send_keys(\"Gratuit\")\n",
    "    time.sleep(tempsDattent)\n",
    "    \n",
    "    #add attendee type\n",
    "    quantity = driver.find_element_by_id(ticketID)\n",
    "    quantity.send_keys(\"1\")\n",
    "    continueBtn = driver.find_element_by_id(\"continue-attendee\")\n",
    "    continueBtn.click()\n",
    "    time.sleep(3*tempsDattent)\n",
    "    \n",
    "     #add name and surname\n",
    "    iframe = driver.find_element_by_tag_name(\"iframe\")\n",
    "    driver.switch_to.frame(iframe)\n",
    "    time.sleep(2.5*tempsDattent)\n",
    "    first_name_element = driver.find_element_by_id(\"buyer.N-first_name\")\n",
    "    first_name_element.send_keys(firstname)\n",
    "    last_name_element = driver.find_element_by_id(\"buyer.N-last_name\")\n",
    "    last_name_element.send_keys(surname)\n",
    "    email_element = driver.find_element_by_id(\"buyer.N-email\")\n",
    "    email_element.send_keys(buyerEmail)\n",
    "    sendEmailButton = driver.find_element_by_id(\"check-chunky_svg__eds-icon--check-chunky_svg\")\n",
    "    sendEmailButton.click()\n",
    "    inscrireButton = driver.find_elements_by_tag_name('button')[0]\n",
    "    inscrireButton.click()\n",
    "    time.sleep(3*tempsDattent)\n",
    "    \n",
    "    #download ticket\n",
    "    select_box = driver.find_elements_by_tag_name(\"select\")[7]\n",
    "    select_box.send_keys(\"Imprimer les billets\")\n",
    "    time.sleep(3*tempsDattent)\n",
    "    \n",
    "    #save in folder\n",
    "    current_url = driver.current_url\n",
    "    orderNumber = current_url.split(',')[1].split(\"&\")[0]\n",
    "    fileName =  eventID+\"-\"+orderNumber+\"-billet.pdf\"\n",
    "    newFileName = firstname+\"-\"+surname+\"-billet.pdf\"\n",
    "    os.rename(download_folder+fileName, ticket_folder+newFileName)\n",
    "    \n",
    "    ##update google sheet to values\n",
    "    update_values(sheetName+str(i+2),\n",
    "                  [\n",
    "                      ['Oui']\n",
    "                  ])\n",
    "    \n",
    "    j=i"
   ]
  }
 ],
 "metadata": {
  "kernelspec": {
   "display_name": "Python 3",
   "language": "python",
   "name": "python3"
  },
  "language_info": {
   "codemirror_mode": {
    "name": "ipython",
    "version": 3
   },
   "file_extension": ".py",
   "mimetype": "text/x-python",
   "name": "python",
   "nbconvert_exporter": "python",
   "pygments_lexer": "ipython3",
   "version": "3.8.3"
  }
 },
 "nbformat": 4,
 "nbformat_minor": 4
}
